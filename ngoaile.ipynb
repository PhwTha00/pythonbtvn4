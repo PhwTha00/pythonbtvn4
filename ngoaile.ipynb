{
  "nbformat": 4,
  "nbformat_minor": 0,
  "metadata": {
    "colab": {
      "provenance": [],
      "authorship_tag": "ABX9TyPmik4Yq7wKO59sqoI0Dtki",
      "include_colab_link": true
    },
    "kernelspec": {
      "name": "python3",
      "display_name": "Python 3"
    },
    "language_info": {
      "name": "python"
    }
  },
  "cells": [
    {
      "cell_type": "markdown",
      "metadata": {
        "id": "view-in-github",
        "colab_type": "text"
      },
      "source": [
        "<a href=\"https://colab.research.google.com/github/PhwTha00/pythonbtvn4/blob/main/ngoaile.ipynb\" target=\"_parent\"><img src=\"https://colab.research.google.com/assets/colab-badge.svg\" alt=\"Open In Colab\"/></a>"
      ]
    },
    {
      "cell_type": "code",
      "execution_count": 2,
      "metadata": {
        "colab": {
          "base_uri": "https://localhost:8080/"
        },
        "id": "2GP_mmIcRy3a",
        "outputId": "9bed7099-d092-4d4f-80ce-8d606af100c0"
      },
      "outputs": [
        {
          "output_type": "stream",
          "name": "stdout",
          "text": [
            "Nhập số nguyên a: 10\n",
            "Nhập số nguyên b (khác 0): 4\n",
            "Giá trị phân số 10/4 là: 2.5\n"
          ]
        }
      ],
      "source": [
        "# Bai1: Viết chương trình nhập 2 số nguyên a và b , sau đó tính và in ra giá trị phân số a/b. Chú ý xử lý ngoại lệ trong các tình huống dưới đây:\n",
        "# - Người dùng nhập a hoặc b không phải số nguyên\n",
        "# - Người dùng nhập b = 0\n",
        "try:\n",
        "    a = int(input(\"Nhập số nguyên a: \"))\n",
        "    b = int(input(\"Nhập số nguyên b (khác 0): \"))\n",
        "\n",
        "    if b == 0:\n",
        "        raise ValueError(\"b phải khác 0\")\n",
        "\n",
        "    # Tính giá trị phân số\n",
        "    fraction = a / b\n",
        "    print(f\"Giá trị phân số {a}/{b} là: {fraction}\")\n",
        "\n",
        "except ValueError as ve:\n",
        "    print(\"Đã xảy ra lỗi:\", ve)\n",
        "\n",
        "except Exception as e:\n",
        "    print(\"Đã xảy ra lỗi:\", e)\n"
      ]
    },
    {
      "cell_type": "code",
      "source": [
        "# Bai2: Viết chương trình yêu cầu người dùng nhập a,b và c là độ dài 3 cạnh của một tam giác. Xử lý ngoại lệ trong các tình huống sau:\n",
        "# - Người dùng nhập a, b hoac c không phải là kiểu số\n",
        "# - Người dùng nhập giá trị 0 hoặc số âm cho a, b hoặc c\n",
        "# - Người dùng nhập a,b,c dương nhưng không thế là cạnh của một tam giác\n",
        "def is_valid_triangle(a, b, c):\n",
        "    return a + b > c and a + c > b and b + c > a\n",
        "\n",
        "try:\n",
        "    a = float(input(\"Nhập độ dài cạnh a: \"))\n",
        "    b = float(input(\"Nhập độ dài cạnh b: \"))\n",
        "    c = float(input(\"Nhập độ dài cạnh c: \"))\n",
        "\n",
        "    if a <= 0 or b <= 0 or c <= 0:\n",
        "        raise ValueError(\"Các giá trị phải là số dương\")\n",
        "    elif not is_valid_triangle(a, b, c):\n",
        "        raise ValueError(\"Ba cạnh không thể tạo thành một tam giác\")\n",
        "    print(\"Tam giác có các cạnh a = {}, b = {}, c = {}.\".format(a, b, c))\n",
        "\n",
        "except ValueError as ve:\n",
        "    print(\"Đã xảy ra lỗi:\", ve)\n",
        "except Exception as e:\n",
        "    print(\"Đã xảy ra lỗi:\", e)\n"
      ],
      "metadata": {
        "colab": {
          "base_uri": "https://localhost:8080/"
        },
        "id": "dsJXPE5lUjIy",
        "outputId": "64853d54-bd06-410c-9940-44d2f7678e1d"
      },
      "execution_count": 3,
      "outputs": [
        {
          "output_type": "stream",
          "name": "stdout",
          "text": [
            "Nhập độ dài cạnh a: 3\n",
            "Nhập độ dài cạnh b: 5\n",
            "Nhập độ dài cạnh c: 7\n",
            "Tam giác có các cạnh a = 3.0, b = 5.0, c = 7.0.\n"
          ]
        }
      ]
    },
    {
      "cell_type": "code",
      "source": [
        "# Bai3:VIết một chương trình cho phép người dùng nhập liên tiếp các số nguyên dương, yêu cầu:\n",
        "# - VIệc nhập liệu sẽ kết thúc bình thường(không exception)\n",
        "# - Phát sinh exception và thông báo \"Lỗi số âm!!!\" khi người dùng nhập một số nguyên âm bất kỳ\n",
        "# - Phát sinh exception và thông báo \"Lỗi nhập số\" khi người dùng nhập vào chuỗi không phải số nguyên\n",
        "# - Phát sinh exception và thông báo \"Lỗi nhập lặp\" khi người dùng nhập 4 số nguyên dương liên tiếp giống nhau\n",
        "# - Phát sinh exception và thông báo \"Lỗi số âm!!!\" khi người dùng nhập 5 số chẵn liên tiếp\n",
        "# - Sau khi phát sinh exception, xử lý và thông báo, chương trình cần tiếp tục hoạt động như bình thường.\n",
        "try:\n",
        "    consecutive_positive_count = 0\n",
        "    consecutive_even_count = 0\n",
        "    previous_number = None\n",
        "\n",
        "    while True:\n",
        "        num_str = input(\"Nhập một số nguyên dương: \")\n",
        "\n",
        "        # Kiểm tra xem người dùng đã nhập rỗng hay không\n",
        "        if not num_str:\n",
        "            break\n",
        "        num = int(num_str)\n",
        "\n",
        "        # Kiểm tra số nguyên dương\n",
        "        if num <= 0:\n",
        "            raise ValueError(\"Lỗi số âm!!!\")\n",
        "\n",
        "        # Kiểm tra số chẵn\n",
        "        if num % 2 == 0:\n",
        "            consecutive_even_count += 1\n",
        "            if consecutive_even_count == 5:\n",
        "                raise ValueError(\"Lỗi số âm!!!\")\n",
        "        else:\n",
        "            consecutive_even_count = 0\n",
        "\n",
        "        # Kiểm tra số lặp\n",
        "        if num == previous_number:\n",
        "            consecutive_positive_count += 1\n",
        "            if consecutive_positive_count == 4:\n",
        "                raise ValueError(\"Lỗi nhập lặp\")\n",
        "        else:\n",
        "            consecutive_positive_count = 0\n",
        "        previous_number = num\n",
        "\n",
        "except ValueError as ve:\n",
        "    print(\"Đã xảy ra lỗi:\", ve)\n",
        "\n",
        "except Exception as e:\n",
        "    print(\"Đã xảy ra lỗi:\", e)\n"
      ],
      "metadata": {
        "colab": {
          "base_uri": "https://localhost:8080/"
        },
        "id": "16DcaX0lUjAT",
        "outputId": "ee1da109-e083-4b0b-b96a-0c940bf861e5"
      },
      "execution_count": 4,
      "outputs": [
        {
          "output_type": "stream",
          "name": "stdout",
          "text": [
            "Nhập một số nguyên dương: 6\n",
            "Nhập một số nguyên dương: 8\n",
            "Nhập một số nguyên dương: 5\n",
            "Nhập một số nguyên dương: 6\n",
            "Nhập một số nguyên dương: 6\n",
            "Nhập một số nguyên dương: 6\n",
            "Nhập một số nguyên dương: 6\n",
            "Nhập một số nguyên dương: 6\n",
            "Đã xảy ra lỗi: Lỗi số âm!!!\n"
          ]
        }
      ]
    }
  ]
}