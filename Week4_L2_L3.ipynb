{
  "nbformat": 4,
  "nbformat_minor": 0,
  "metadata": {
    "colab": {
      "provenance": [],
      "authorship_tag": "ABX9TyMBQDM2sQTGjaGW+cAK5RGY",
      "include_colab_link": true
    },
    "kernelspec": {
      "name": "python3",
      "display_name": "Python 3"
    },
    "language_info": {
      "name": "python"
    }
  },
  "cells": [
    {
      "cell_type": "markdown",
      "metadata": {
        "id": "view-in-github",
        "colab_type": "text"
      },
      "source": [
        "<a href=\"https://colab.research.google.com/github/PhwTha00/pythonbtvn4/blob/main/Week4_L2_L3.ipynb\" target=\"_parent\"><img src=\"https://colab.research.google.com/assets/colab-badge.svg\" alt=\"Open In Colab\"/></a>"
      ]
    },
    {
      "cell_type": "markdown",
      "source": [
        "1. Viết chuong trình trả về các phần tử khác biệt của 2 mảng (Phần tử nằm trong a mà không nằm trong b).Các phần tử khác biệt này được sắp xếp theo thứ tự từ bé đến lớn"
      ],
      "metadata": {
        "id": "q-GfffSOWWHy"
      }
    },
    {
      "cell_type": "code",
      "source": [
        "def unique_elements(arr1, arr2):\n",
        "    set_arr2 = set(arr2)\n",
        "\n",
        "    different_elements = [x for x in arr1 if x not in set_arr2]\n",
        "\n",
        "    different_elements.sort()\n",
        "\n",
        "    return different_elements\n",
        "\n",
        "array1 = [1, 2, 3, 4, 5]\n",
        "array2 = [3, 4, 5, 6, 7]\n",
        "\n",
        "result = unique_elements(array1, array2)\n",
        "print(\"Các phần tử khác biệt của hai mảng là:\", result)\n"
      ],
      "metadata": {
        "colab": {
          "base_uri": "https://localhost:8080/"
        },
        "id": "VU86MecZW2fN",
        "outputId": "22011deb-728e-403f-df5a-043d3294edfb"
      },
      "execution_count": 1,
      "outputs": [
        {
          "output_type": "stream",
          "name": "stdout",
          "text": [
            "Các phần tử khác biệt của hai mảng là: [1, 2]\n"
          ]
        }
      ]
    },
    {
      "cell_type": "markdown",
      "source": [
        "2. Viết chuơng trình NumPy để tìm chỉ số của các giá trị lớn nhất và nhỏ nhất dọc theo trục đã cho của một mảng"
      ],
      "metadata": {
        "id": "tiJ856b0Wkio"
      }
    },
    {
      "cell_type": "code",
      "execution_count": 4,
      "metadata": {
        "colab": {
          "base_uri": "https://localhost:8080/"
        },
        "id": "syom11miWUcB",
        "outputId": "6fa4e7dc-592a-4944-98cd-c1b0b9bc79f9"
      },
      "outputs": [
        {
          "output_type": "stream",
          "name": "stdout",
          "text": [
            "Chỉ số của giá trị nhỏ nhất dọc theo trục 0: [0 1 0]\n",
            "Chỉ số của giá trị lớn nhất dọc theo trục 0: [2 0 2]\n",
            "Chỉ số của giá trị nhỏ nhất dọc theo trục 1: [0 1 1]\n",
            "Chỉ số của giá trị lớn nhất dọc theo trục 1: [1 2 2]\n"
          ]
        }
      ],
      "source": [
        "import numpy as np\n",
        "\n",
        "def find_min_max_indices_along_axis(arr, axis):\n",
        "    min_indices = np.argmin(arr, axis=axis)\n",
        "    max_indices = np.argmax(arr, axis=axis)\n",
        "\n",
        "    return min_indices, max_indices\n",
        "\n",
        "arr = np.array([[1, 5, 3],\n",
        "                [4, 2, 6],\n",
        "                [7, 5, 9]])\n",
        "\n",
        "min_indices, max_indices = find_min_max_indices_along_axis(arr, axis=0)\n",
        "print(\"Chỉ số của giá trị nhỏ nhất dọc theo trục 0:\", min_indices)\n",
        "print(\"Chỉ số của giá trị lớn nhất dọc theo trục 0:\", max_indices)\n",
        "\n",
        "min_indices, max_indices = find_min_max_indices_along_axis(arr, axis=1)\n",
        "print(\"Chỉ số của giá trị nhỏ nhất dọc theo trục 1:\", min_indices)\n",
        "print(\"Chỉ số của giá trị lớn nhất dọc theo trục 1:\", max_indices)\n"
      ]
    }
  ]
}