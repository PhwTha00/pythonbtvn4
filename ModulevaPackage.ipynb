{
  "nbformat": 4,
  "nbformat_minor": 0,
  "metadata": {
    "colab": {
      "provenance": [],
      "authorship_tag": "ABX9TyODPsAuK9+IiREH5PpDlCFA",
      "include_colab_link": true
    },
    "kernelspec": {
      "name": "python3",
      "display_name": "Python 3"
    },
    "language_info": {
      "name": "python"
    }
  },
  "cells": [
    {
      "cell_type": "markdown",
      "metadata": {
        "id": "view-in-github",
        "colab_type": "text"
      },
      "source": [
        "<a href=\"https://colab.research.google.com/github/PhwTha00/pythonbtvn4/blob/main/ModulevaPackage.ipynb\" target=\"_parent\"><img src=\"https://colab.research.google.com/assets/colab-badge.svg\" alt=\"Open In Colab\"/></a>"
      ]
    },
    {
      "cell_type": "code",
      "execution_count": 1,
      "metadata": {
        "colab": {
          "base_uri": "https://localhost:8080/"
        },
        "id": "sMAHMQrsAz7_",
        "outputId": "35352a22-ab06-49c0-bcf5-cb50b4b398af"
      },
      "outputs": [
        {
          "output_type": "stream",
          "name": "stdout",
          "text": [
            "0 : zero\n",
            "1 : one\n",
            "2 : two\n",
            "3 : three\n",
            "4 : four\n",
            "5 : five\n",
            "6 : six\n",
            "7 : seven\n",
            "8 : eight\n",
            "9 : nine\n"
          ]
        }
      ],
      "source": [
        "# Bai1: Cho D là từ điến định nghĩa cách đọc các chữ số ở Tiếng Anh, hãy in ra các value của D theo thứ tự tăng dần\n",
        "\n",
        "D = {\n",
        "    0: 'zero',\n",
        "    1: 'one',\n",
        "    2: 'two',\n",
        "    3: 'three',\n",
        "    4: 'four',\n",
        "    5: 'five',\n",
        "    6: 'six',\n",
        "    7: 'seven',\n",
        "    8: 'eight',\n",
        "    9: 'nine'\n",
        "}\n",
        "\n",
        "for key in sorted(D.keys()):\n",
        "    print(key, ':', D[key])\n",
        "\n"
      ]
    },
    {
      "cell_type": "code",
      "source": [
        "# Bai2: Nhập một từ điến D, hãy in ra các value khác nhau trong từ điến.\n",
        "D = eval(input(\"Nhập từ điển D: \"))\n",
        "unique_values = set(D.values())\n",
        "print(\"Các giá trị duy nhất trong từ điển là:\")\n",
        "for value in unique_values:\n",
        "    print(value)"
      ],
      "metadata": {
        "colab": {
          "base_uri": "https://localhost:8080/"
        },
        "id": "dwIc-JqIBRSe",
        "outputId": "a3dddc61-f32f-4f41-9aa4-b705756ee93f"
      },
      "execution_count": 2,
      "outputs": [
        {
          "output_type": "stream",
          "name": "stdout",
          "text": [
            "Nhập từ điển D: {'a': 1, 'b': 2, 'c': 3, 'd': 2, 'e': 1}\n",
            "Các giá trị duy nhất trong từ điển là:\n",
            "1\n",
            "2\n",
            "3\n"
          ]
        }
      ]
    },
    {
      "cell_type": "code",
      "source": [
        "# Bai3: Nhập một từ điến D có các value là các số nguyên, hãy in ra màn hinh 3 giá trị value lớn nhất.\n",
        "\n",
        "D = eval(input(\"Nhập từ điển D: \"))\n",
        "values = list(D.values())\n",
        "sorted_values = sorted(values, reverse=True)\n",
        "print(\"Ba giá trị lớn nhất trong từ điển:\")\n",
        "for i in range(3):\n",
        "    print(sorted_values[i])\n"
      ],
      "metadata": {
        "colab": {
          "base_uri": "https://localhost:8080/"
        },
        "id": "orXbQV9UBaQJ",
        "outputId": "d5d19a97-6cb2-46ac-a33d-c78ee3a74ce6"
      },
      "execution_count": 5,
      "outputs": [
        {
          "output_type": "stream",
          "name": "stdout",
          "text": [
            "Nhập từ điển D: {'a': 14, 'b': 15, 'c': 16, 'd': 20}\n",
            "Ba giá trị lớn nhất trong từ điển:\n",
            "20\n",
            "16\n",
            "15\n"
          ]
        }
      ]
    },
    {
      "cell_type": "code",
      "source": [
        "# Bai4: Nhập một string S, hãy tạo từ điến D trong đó key là các chữ xuất hiện trong S còn value tương ứng là số lần xuất hiện các chữ đó trong S\n",
        "\n",
        "S = input(\"Nhập chuỗi S: \")\n",
        "D = {}\n",
        "for char in S:\n",
        "    if char in D:\n",
        "        D[char] += 1\n",
        "    else:\n",
        "        D[char] = 1\n",
        "\n",
        "print(\"Từ điển D:\")\n",
        "print(D)\n"
      ],
      "metadata": {
        "colab": {
          "base_uri": "https://localhost:8080/"
        },
        "id": "HBEkippRBpGE",
        "outputId": "a25a8784-eed2-4c58-9b4d-033f3d9fdde7"
      },
      "execution_count": 9,
      "outputs": [
        {
          "output_type": "stream",
          "name": "stdout",
          "text": [
            "Nhập chuỗi S: truong toi la truong dai hoc phenikaa\n",
            "Từ điển D:\n",
            "{'t': 3, 'r': 2, 'u': 2, 'o': 4, 'n': 3, 'g': 2, ' ': 6, 'i': 3, 'l': 1, 'a': 4, 'd': 1, 'h': 2, 'c': 1, 'p': 1, 'e': 1, 'k': 1}\n"
          ]
        }
      ]
    },
    {
      "cell_type": "code",
      "source": [
        "# Bai5: Nhập từ điến prices lưu trữ gía của các loại trái cây và từ điến stock lưu trữ số lượng tồn của từng loại. Sau đó hãy in ra thứ tự các loại trái cây còn trong cửa hàng giảm dần theo tổng giá trị của từng loại hàng.\n",
        "\n",
        "prices = eval(input(\"prices: \"))\n",
        "stock = eval(input(\"stock: \"))\n",
        "\n",
        "fruit_values = [(fruit, prices[fruit] * stock.get(fruit, 0)) for fruit in prices]\n",
        "sorted_fruit_values = sorted(fruit_values, key=lambda x: x[1], reverse=True)\n",
        "\n",
        "print(\"Thứ tự các loại trái cây còn trong cửa hàng giảm dần theo tổng giá trị:\")\n",
        "for fruit, value in sorted_fruit_values:\n",
        "    print(f\"{fruit.ljust(7)} {value}\")\n"
      ],
      "metadata": {
        "colab": {
          "base_uri": "https://localhost:8080/"
        },
        "id": "91OOF5QQC2-_",
        "outputId": "51b15a94-2e37-4535-f2cc-fcfda6c05033"
      },
      "execution_count": 8,
      "outputs": [
        {
          "output_type": "stream",
          "name": "stdout",
          "text": [
            "prices: {\"banana\":4, \"apple\":2, \"orange\":1.5, \"pear\":3}\n",
            "stock: {\"banana\":6, \"orange\":32,\"pear\":15}\n",
            "Thứ tự các loại trái cây còn trong cửa hàng giảm dần theo tổng giá trị:\n",
            "orange  48.0\n",
            "pear    45\n",
            "banana  24\n",
            "apple   0\n"
          ]
        }
      ]
    },
    {
      "cell_type": "code",
      "source": [
        "# Bai6: Tạo ra một từ điến lưu lượng mưa trung bình trong các tháng từ năm 2000 đến 2019. Quy cách như sau:\n",
        "# - Từ điến có 12 mục, khóa của mỗi mục là một tháng\n",
        "# - Giá trị ứng với khóa là danh sách 20 số đại diện cho 20 năm\n",
        "# - lượng mưa là số thực ngẫu nhiên từ 100 đến 4000\n",
        "\n",
        "import random\n",
        "rainfall_dictionary = {}\n",
        "for month in range(1, 13):\n",
        "    monthly_rainfall = []\n",
        "    for _ in range(20):\n",
        "        rainfall = random.uniform(100, 4000)\n",
        "        monthly_rainfall.append(rainfall)\n",
        "    rainfall_dictionary[month] = monthly_rainfall\n",
        "print(\"Từ điển lưu lượng mưa trung bình trong các tháng từ năm 2000 đến 2019:\")\n",
        "print(rainfall_dictionary)\n"
      ],
      "metadata": {
        "colab": {
          "base_uri": "https://localhost:8080/"
        },
        "id": "gykGf0dbJVzu",
        "outputId": "0b2809ab-70cd-4c0d-f7f3-611a5e69bede"
      },
      "execution_count": 10,
      "outputs": [
        {
          "output_type": "stream",
          "name": "stdout",
          "text": [
            "Từ điển lưu lượng mưa trung bình trong các tháng từ năm 2000 đến 2019:\n",
            "{1: [3781.289423673082, 216.0913653666492, 1767.4412212251943, 1418.761003848474, 2930.4817214733425, 2637.5292430261334, 907.467050348705, 2498.680375784742, 3569.7483060693376, 222.66429892141326, 602.5141813605101, 3080.2051147338298, 1773.754482978124, 3086.551352707853, 3052.8893305275096, 3017.2628951749566, 3576.032486063328, 569.8156282635448, 1556.603913971571, 2792.515414346431], 2: [1337.1683261075527, 159.67207015523493, 1376.0568056683571, 3932.551815830746, 2573.012382224465, 303.195024316373, 1187.630490405166, 2374.2335957890714, 478.1697904416708, 3964.035755301892, 512.8565425580375, 733.4901771100532, 1059.6844854043989, 1836.9819299163628, 195.90671933157853, 1592.5177784516763, 1944.1634851771503, 1295.8822195569971, 2874.510739406601, 279.15842230730743], 3: [978.2404073927376, 2382.530711986993, 391.29471974567394, 1712.4821222115015, 3079.4444351580723, 1039.4468773736176, 3649.291030399418, 2358.645613199776, 474.47118122070566, 2294.923418664039, 1985.4752266912517, 559.7486145842581, 2198.216726937813, 3226.4214971494175, 3941.0239676181336, 3485.4076534074406, 1694.7880091034488, 372.04915027297733, 1766.7908366959812, 3355.0328719708896], 4: [489.39967564300406, 415.05639552761915, 3678.0998406401777, 3814.7062938939034, 1799.2237421471214, 3831.781826313686, 1237.745958131167, 3301.256401843085, 530.3028260709792, 1900.866745915383, 2032.9776097242693, 3274.8365852179386, 354.3938533288823, 3478.0049502529287, 3543.2433518629437, 3499.480344350189, 3042.0336184778653, 1279.551189968039, 1547.1967266295533, 2057.3134090328936], 5: [1408.7350970512075, 1029.062067038586, 2803.566713469559, 486.9294640815662, 3148.266014667276, 2728.9684948536715, 471.7405926882523, 2253.4856025929184, 1801.7754505706105, 328.5796380160616, 3330.515636873901, 3828.5353216144317, 2251.7690414758713, 3380.9975078953908, 1881.5362074099878, 2159.4846563206165, 3544.7346578749307, 649.2347220245716, 1534.2352885418252, 878.8524060826123], 6: [211.30079683678392, 433.1117218217896, 1228.0385612435093, 116.1920063009507, 3269.9797868031137, 2336.8673685556005, 2796.1174860962237, 1978.0874801085831, 1503.1976673798283, 3471.8053641803967, 2909.695737881924, 3172.681555758422, 3704.629892231684, 1187.8131467728228, 540.0726259623132, 3909.9275260110126, 148.56344301043555, 906.4927643250891, 2195.801465558693, 3974.5389523867443], 7: [2847.3000382842965, 285.44085913840934, 3233.1451037612646, 2763.046409645648, 3945.9855110985754, 2970.0706591964695, 1602.085093501906, 3893.6388505484824, 1849.5391314086094, 3001.8801414222116, 929.651947585007, 3683.788324113773, 3260.225059540109, 3344.8920708393575, 676.5558308661782, 1110.242495566456, 777.0960499462816, 3046.7948630562173, 327.31626681876855, 2152.3622724420525], 8: [2446.6572776488324, 1314.083062248667, 517.2791853386748, 2280.5898013449687, 993.9658125499112, 3989.2570881856473, 2309.1596850461897, 3329.1450912660152, 3285.05026026585, 272.10295693845626, 921.3740936113913, 2946.334182879645, 2881.6248595911147, 2413.609870739632, 519.4101445741858, 1853.7666104212883, 2679.2144916122334, 3844.1118617583306, 3418.9528760393837, 171.67650240537085], 9: [554.4615350647334, 1308.6812952516257, 747.162126814023, 3212.7518211847128, 1036.6583391862428, 1677.8453342209, 166.7963137591509, 3495.406190159831, 1736.155986459297, 3906.1448801809884, 757.7491918778611, 2491.091122655319, 1520.2449999346964, 1230.4792760147805, 1091.9737732345557, 775.5723384076476, 1636.5321390359388, 1200.9000238063552, 1587.2471311419602, 671.4304186562814], 10: [2757.0685296053703, 146.0064681772142, 3222.5349183210415, 1338.538694612627, 3459.165787181072, 3303.8182056066253, 368.9078336114328, 1732.7225699252103, 935.6635838439533, 1162.3128778027037, 1891.980057201743, 2972.4407731555025, 3584.668684570676, 828.5957892874686, 2028.9375804415345, 3221.8605929238624, 3819.464109214261, 3113.3058036115517, 2169.7167299314465, 2213.347507370196], 11: [1260.3644157927909, 2654.9618900138485, 644.0281766042631, 2118.7152324453928, 630.3738929867972, 1956.3076367596311, 785.5779198797447, 2220.8448063937585, 3888.8972633003814, 2922.591008295753, 831.0295815488073, 681.0381337087581, 1595.2991383582396, 3313.0702185171276, 373.0043634849942, 2788.7301650412046, 1637.151185045517, 952.3733576631001, 1742.845984296095, 921.028604167207], 12: [2077.278085545665, 3924.6252834098664, 2802.0649674779693, 487.523246254912, 1089.112652881629, 1051.5203127202597, 284.15740999825806, 3576.7486719325107, 2881.412943398662, 1014.2826496997097, 2357.8905316021546, 668.188483332975, 2800.4268125623466, 191.84187952393793, 1498.6995338572688, 1021.9599921117243, 2521.7638561977215, 3047.6360930715064, 1596.121185307297, 2485.2862101880205]}\n"
          ]
        }
      ]
    },
    {
      "cell_type": "code",
      "source": [
        "# Bai7: Nhập 2 từ điến A có N cặp(key,value) và B có N=M cặp(key, value). Từ A và B hãy tạo từ điến C theo quy tắc sau:\n",
        "# - Một mục trong C thì key phải xuất hiện trong A hoặc B\n",
        "# - Nếu key chỉ xuất hiện trong A hoặc trong B thì value tương ứng trong A (hoặc B)\n",
        "# - Nếu key xuất hiện trong cả A và B thì value là max của value tương ứng trong A và B\n",
        "\n",
        "N = int(input(\"Nhập số lượng cặp key-value cho từ điển A và B: \"))\n",
        "print(\"Nhập từ điển A:\")\n",
        "A = {}\n",
        "for i in range(N):\n",
        "    key = input(\"Nhập key: \")\n",
        "    value = input(\"Nhập value: \")\n",
        "    A[key] = value\n",
        "\n",
        "print(\"Nhập từ điển B:\")\n",
        "B = {}\n",
        "for i in range(N):\n",
        "    key = input(\"Nhập key: \")\n",
        "    value = input(\"Nhập value: \")\n",
        "    B[key] = value\n",
        "\n",
        "C = {}\n",
        "for key in A.keys():\n",
        "    if key in B:\n",
        "        C[key] = max(int(A[key]), int(B[key]))\n",
        "    else:\n",
        "        C[key] = int(A[key])\n",
        "\n",
        "for key in B.keys():\n",
        "    if key not in A:\n",
        "        C[key] = int(B[key])\n",
        "print(\"Từ điển C:\")\n",
        "print(C)\n"
      ],
      "metadata": {
        "colab": {
          "base_uri": "https://localhost:8080/"
        },
        "id": "3Y0OftNCKGFc",
        "outputId": "5b97c592-8238-4d56-8ab2-172a195d1f67"
      },
      "execution_count": 11,
      "outputs": [
        {
          "output_type": "stream",
          "name": "stdout",
          "text": [
            "Nhập số lượng cặp key-value cho từ điển A và B: 3\n",
            "Nhập từ điển A:\n",
            "Nhập key: monkey\n",
            "Nhập value: 12\n",
            "Nhập key: dog\n",
            "Nhập value: 35\n",
            "Nhập key: cat\n",
            "Nhập value: 23\n",
            "Nhập từ điển B:\n",
            "Nhập key: cat\n",
            "Nhập value: 32\n",
            "Nhập key: dog\n",
            "Nhập value: 21\n",
            "Nhập key: duck\n",
            "Nhập value: 13\n",
            "Từ điển C:\n",
            "{'monkey': 12, 'dog': 35, 'cat': 32, 'duck': 13}\n"
          ]
        }
      ]
    }
  ]
}