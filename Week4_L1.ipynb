{
  "nbformat": 4,
  "nbformat_minor": 0,
  "metadata": {
    "colab": {
      "provenance": [],
      "authorship_tag": "ABX9TyOgEWA8tIjtPx8b/utAYNHd",
      "include_colab_link": true
    },
    "kernelspec": {
      "name": "python3",
      "display_name": "Python 3"
    },
    "language_info": {
      "name": "python"
    }
  },
  "cells": [
    {
      "cell_type": "markdown",
      "metadata": {
        "id": "view-in-github",
        "colab_type": "text"
      },
      "source": [
        "<a href=\"https://colab.research.google.com/github/PhwTha00/pythonbtvn4/blob/main/Week4_L1.ipynb\" target=\"_parent\"><img src=\"https://colab.research.google.com/assets/colab-badge.svg\" alt=\"Open In Colab\"/></a>"
      ]
    },
    {
      "cell_type": "markdown",
      "source": [
        "bài 1. Đọc 1 file và in ra màn hình 5 dòng đầu tiên, nếu file không đủ 5 dòng thì in toàn bộ nội dung file"
      ],
      "metadata": {
        "id": "hm7mlxTjq1xg"
      }
    },
    {
      "cell_type": "code",
      "execution_count": null,
      "metadata": {
        "colab": {
          "base_uri": "https://localhost:8080/"
        },
        "id": "EBP7hweIqx0m",
        "outputId": "b5b866d6-115c-49bc-ce4c-c5fa3b69c0be"
      },
      "outputs": [
        {
          "output_type": "stream",
          "name": "stdout",
          "text": [
            "“Dù có đi bốn phương trời, lòng vẫn nhớ về Hà Nội”. Quả thật, Hà Nội đẹp, bình dị, đáng yêu và mơ màng, giống như một thứ tình yêu không dễ để gọi tên, chỉ biết ngắm nhìn, trân trọng và nâng niu. Hà Nội, quê hương thứ 2 của biết bao người con xa xứ. Cuốn sách “Hà Nội băm sáu phố phường” chính là tác phẩm văn học Việt Nam có thể giúp ta hiểu hơn về một Hà Nội như thế, hiểu thêm về những nét đẹp của thủ đô nghìn năm văn hiến.\n",
            "\n",
            "“Hà Nội băm sáu phố phường” chủ yếu viết về chuyện phố, chuyện phường, đời sống dân sinh thường nhật, đặc biệt còn đi sâu vào những thức quà chỉ riêng nơi đây mới có. Đến với những trang giấy, Hà Nội xưa hiện ra ở nhiều góc cạnh cùng các đặc trưng riêng, tạo nên sức quyến rũ kỳ lạ, níu chân bất cứ vị khách nào lại qua.\n",
            "\n",
            "Đó là những mái nhà cổ kính nhẹ nhàng khoác lên mình lối kiến trúc độc đáo, dáng vẻ quanh co nhưng rất đỗi mềm mại của những con phố quen thuộc, là nét văn hoá ẩm thực tinh tế giữa không gian êm ả, thanh bình, rộn rã mà trầm mặc. Nói cách khác cuốn sách đã giúp người đọc nhìn thấy cả vóc dáng và tâm hồn Hà Nội.\n"
          ]
        }
      ],
      "source": [
        "with open('hanoi.txt', 'r') as file:\n",
        "    lines = file.readlines()\n",
        "\n",
        "    for line in lines[:5]:\n",
        "        print(line.rstrip())\n"
      ]
    },
    {
      "cell_type": "markdown",
      "source": [
        "bài 2. Đọc 1 file và in ra màn hình 5 dòng cuối cung, nếu file không đủ 5 dòng thì in toàn bộ nội dung file"
      ],
      "metadata": {
        "id": "GwaBnaNTq7Bf"
      }
    },
    {
      "cell_type": "code",
      "source": [
        "with open('hanoi.txt', 'r') as file:\n",
        "    lines = file.readlines()\n",
        "\n",
        "    start_index = max(0, len(lines) - 5)\n",
        "    for line in lines[start_index:]:\n",
        "        print(line.rstrip())"
      ],
      "metadata": {
        "colab": {
          "base_uri": "https://localhost:8080/"
        },
        "id": "YTR3XUFDq0ue",
        "outputId": "d3f9b609-c90d-4a54-e8fe-2d29b42c70c8"
      },
      "execution_count": null,
      "outputs": [
        {
          "output_type": "stream",
          "name": "stdout",
          "text": [
            "Giới thiệu về Hà Nội – Vị trí và đặc điểm kiểu khí hậu Hà Nội nằm ở tả ngạn sông Đà và hai bên đồng bằng sông Hồng. Phía Bắc giáp với tỉnh Vĩnh Phúc và Thái Nguyên, phía Nam giáp tỉnh Hòa Bình, phía Đông giáp với tỉnh Bắc Ninh và Hưng Yên, còn phía Tây giáp tỉnh Vĩnh Phúc. Sau khi được mở rộng, Hà Nội nằm trong top 17 Thủ đô có diện tích lớn nhất thế giới với 3.324,92 km2. Với vị trí địa lý thuận lợi này, thành phố này dễ dàng trở thành trung tâm kinh tế – chính trị, văn hóa, khoa học quan trọng của cả nước. Hiện tại, bao gồm 12 quận, 1 thị xã và 17 huyện.\n",
            "\n",
            "Do có kiểu khí hậu nhiệt đới gió mùa ẩm nên đến du lịch Hà Nội, bạn có thể thưởng thức đủ 4 mùa trong năm. Mỗi mùa đều có những đặc trưng riêng, cho bạn những cảm nhận khác nhau về cuộc sống, về cảnh vật và con người nơi đây. Hà Nội vào đông lạnh thì cũng lạnh lắm, vào hè nóng thì cũng nóng lắm nhưng không vì thế mà mất đi cái đẹp. Song có lẽ, đặc biệt nhất vẫn là mùa xuân, là mùa thu Hà Nội.\n",
            "\n",
            "Hà Nội từ thuở còn là Kinh thành Thăng Long cho đến nay vẫn luôn là trung tâm văn hóa lớn nhất của cả nước. Vùng đất này đã sinh ra nền văn hóa dân gian với nhiều câu chuyện truyền thuyết, nhiều câu ca dao, tục ngữ, nhiều lễ hội dân gian và cả những vị anh hùng được ca ngợi, các di tích văn hóa vật thể và phi vật thể được công nhận.\n"
          ]
        }
      ]
    },
    {
      "cell_type": "markdown",
      "source": [
        "bài 3. Đọc 1 file, tìm và in ra nội dung của dòng dài nhất trong file đó"
      ],
      "metadata": {
        "id": "GJpR3tl4rEPy"
      }
    },
    {
      "cell_type": "code",
      "source": [
        "with open('hanoi.txt', 'r') as file:\n",
        "    lines = file.readlines()\n",
        "\n",
        "    longest_line = ''\n",
        "    max_length = 0\n",
        "\n",
        "    for line in lines:\n",
        "        line = line.rstrip()\n",
        "        if len(line) > max_length:\n",
        "            max_length = len(line)\n",
        "            longest_line = line\n",
        "    print(\"Dòng dài nhất trong file là:\")\n",
        "    print(longest_line)\n"
      ],
      "metadata": {
        "colab": {
          "base_uri": "https://localhost:8080/"
        },
        "id": "aoIS3Uk5rDop",
        "outputId": "f12bff80-a917-4166-ec61-f75516a7a6e0"
      },
      "execution_count": null,
      "outputs": [
        {
          "output_type": "stream",
          "name": "stdout",
          "text": [
            "Dòng dài nhất trong file là:\n",
            "Giới thiệu về Hà Nội – Vị trí và đặc điểm kiểu khí hậu Hà Nội nằm ở tả ngạn sông Đà và hai bên đồng bằng sông Hồng. Phía Bắc giáp với tỉnh Vĩnh Phúc và Thái Nguyên, phía Nam giáp tỉnh Hòa Bình, phía Đông giáp với tỉnh Bắc Ninh và Hưng Yên, còn phía Tây giáp tỉnh Vĩnh Phúc. Sau khi được mở rộng, Hà Nội nằm trong top 17 Thủ đô có diện tích lớn nhất thế giới với 3.324,92 km2. Với vị trí địa lý thuận lợi này, thành phố này dễ dàng trở thành trung tâm kinh tế – chính trị, văn hóa, khoa học quan trọng của cả nước. Hiện tại, bao gồm 12 quận, 1 thị xã và 17 huyện.\n"
          ]
        }
      ]
    },
    {
      "cell_type": "markdown",
      "source": [
        "bài 4. Đọc 1 file, tìm và in ra từ dài nhất trong file"
      ],
      "metadata": {
        "id": "OdXSrNj4rEvl"
      }
    },
    {
      "cell_type": "code",
      "source": [
        "with open('hanoi.txt', 'r') as file:\n",
        "    lines = file.readlines()\n",
        "    longest_word = ''\n",
        "\n",
        "    for line in lines:\n",
        "        words = line.split()\n",
        "        for word in words:\n",
        "            if len(word) > len(longest_word):\n",
        "                longest_word = word\n",
        "    print(\"Từ dài nhất trong file là:\", longest_word)\n"
      ],
      "metadata": {
        "id": "qlFe226pq1Hx",
        "colab": {
          "base_uri": "https://localhost:8080/"
        },
        "outputId": "2ceff92b-b54b-4815-8f38-c432dc6b9606"
      },
      "execution_count": null,
      "outputs": [
        {
          "output_type": "stream",
          "name": "stdout",
          "text": [
            "Từ dài nhất trong file là: 3.324,92\n"
          ]
        }
      ]
    },
    {
      "cell_type": "markdown",
      "source": [
        "bài 5. Đọc 1 file, thông kê và in ra tất cả các chữ cái có trong file và số lần xuất hiện các chữ số đó"
      ],
      "metadata": {
        "id": "RDus_itNrgmo"
      }
    },
    {
      "cell_type": "code",
      "source": [
        "with open('hanoi.txt', 'r') as file:\n",
        "    content = file.read().lower()\n",
        "    char_count = {}\n",
        "\n",
        "    for char in content:\n",
        "        if char.isalpha():\n",
        "            char_count[char] = char_count.get(char, 0) + 1\n",
        "\n",
        "    print(\"Thông kê số lần xuất hiện của mỗi chữ cái:\")\n",
        "    for char, count in sorted(char_count.items()):\n",
        "        print(f\"{char}: {count}\")\n"
      ],
      "metadata": {
        "id": "iBAIgdvirhJa",
        "colab": {
          "base_uri": "https://localhost:8080/"
        },
        "outputId": "94d2c492-a672-4466-8be5-431cf6d20167"
      },
      "execution_count": null,
      "outputs": [
        {
          "output_type": "stream",
          "name": "stdout",
          "text": [
            "Thông kê số lần xuất hiện của mỗi chữ cái:\n",
            "a: 47\n",
            "b: 19\n",
            "c: 97\n",
            "d: 15\n",
            "e: 1\n",
            "g: 90\n",
            "h: 181\n",
            "i: 100\n",
            "k: 19\n",
            "l: 25\n",
            "m: 45\n",
            "n: 242\n",
            "o: 24\n",
            "p: 27\n",
            "q: 9\n",
            "r: 28\n",
            "s: 14\n",
            "t: 99\n",
            "u: 52\n",
            "v: 52\n",
            "x: 5\n",
            "y: 21\n",
            "à: 51\n",
            "á: 24\n",
            "â: 16\n",
            "ã: 4\n",
            "è: 1\n",
            "é: 2\n",
            "ê: 15\n",
            "ì: 11\n",
            "í: 14\n",
            "ò: 5\n",
            "ó: 19\n",
            "ô: 11\n",
            "ù: 9\n",
            "ú: 5\n",
            "ý: 1\n",
            "ă: 12\n",
            "đ: 41\n",
            "ĩ: 2\n",
            "ũ: 3\n",
            "ơ: 6\n",
            "ư: 23\n",
            "ạ: 11\n",
            "ả: 9\n",
            "ấ: 9\n",
            "ầ: 1\n",
            "ẩ: 3\n",
            "ẫ: 3\n",
            "ậ: 11\n",
            "ắ: 5\n",
            "ằ: 3\n",
            "ặ: 6\n",
            "ẹ: 4\n",
            "ẻ: 1\n",
            "ẽ: 1\n",
            "ế: 16\n",
            "ề: 15\n",
            "ể: 10\n",
            "ễ: 3\n",
            "ệ: 12\n",
            "ỉ: 6\n",
            "ị: 9\n",
            "ọ: 6\n",
            "ố: 12\n",
            "ồ: 4\n",
            "ổ: 1\n",
            "ỗ: 2\n",
            "ộ: 23\n",
            "ớ: 15\n",
            "ờ: 9\n",
            "ở: 6\n",
            "ợ: 5\n",
            "ụ: 1\n",
            "ủ: 9\n",
            "ứ: 7\n",
            "ừ: 1\n",
            "ữ: 10\n",
            "ự: 1\n",
            "ỳ: 1\n"
          ]
        }
      ]
    },
    {
      "cell_type": "markdown",
      "source": [
        "bài 6. Đọc 1 file, thống kê và tần xuất xuất hiện của tất cả các từ trong file, in theo thứ tự giảm dần của tần số xuất hiện"
      ],
      "metadata": {
        "id": "r29ZrkiYrnKY"
      }
    },
    {
      "cell_type": "code",
      "source": [
        "with open('hanoi.txt', 'r') as file:\n",
        "    content = file.read().lower()\n",
        "    words = content.split()\n",
        "    word_count = {}\n",
        "\n",
        "    for word in words:\n",
        "        word_count[word] = word_count.get(word, 0) + 1\n",
        "    sorted_word_count = sorted(word_count.items(), key=lambda x: x[1], reverse=True)\n",
        "    print(\"Tần suất xuất hiện của tất cả các từ (theo thứ tự giảm dần):\")\n",
        "    for word, count in sorted_word_count:\n",
        "        print(f\"{word}: {count}\")\n"
      ],
      "metadata": {
        "id": "p4yyNuiqrne4",
        "colab": {
          "base_uri": "https://localhost:8080/"
        },
        "outputId": "ec5f77a2-bf4d-42c0-d000-84e9ffaaef89"
      },
      "execution_count": null,
      "outputs": [
        {
          "output_type": "stream",
          "name": "stdout",
          "text": [
            "Tần suất xuất hiện của tất cả các từ (theo thứ tự giảm dần):\n",
            "hà: 13\n",
            "và: 11\n",
            "nội: 10\n",
            "những: 8\n",
            "có: 7\n",
            "về: 7\n",
            "là: 7\n",
            "văn: 7\n",
            "với: 6\n",
            "của: 5\n",
            "đặc: 5\n",
            "mùa: 5\n",
            "phố: 4\n",
            "thể: 4\n",
            "nhiều: 4\n",
            "vị: 4\n",
            "cả: 4\n",
            "phía: 4\n",
            "giáp: 4\n",
            "tỉnh: 4\n",
            "đi: 3\n",
            "vẫn: 3\n",
            "không: 3\n",
            "người: 3\n",
            "con: 3\n",
            "chuyện: 3\n",
            "dân: 3\n",
            "còn: 3\n",
            "vào: 3\n",
            "đến: 3\n",
            "gian: 3\n",
            "tâm: 3\n",
            "được: 3\n",
            "nhất: 3\n",
            "thành: 3\n",
            "vật: 3\n",
            "hóa: 3\n",
            "yêu: 2\n",
            "như: 2\n",
            "một: 2\n",
            "thứ: 2\n",
            "dễ: 2\n",
            "chỉ: 2\n",
            "biết: 2\n",
            "trọng: 2\n",
            "nội,: 2\n",
            "bao: 2\n",
            "cuốn: 2\n",
            "sách: 2\n",
            "“hà: 2\n",
            "băm: 2\n",
            "sáu: 2\n",
            "phường”: 2\n",
            "chính: 2\n",
            "học: 2\n",
            "nam: 2\n",
            "giúp: 2\n",
            "hiểu: 2\n",
            "nét: 2\n",
            "thủ: 2\n",
            "đô: 2\n",
            "sinh: 2\n",
            "biệt: 2\n",
            "thức: 2\n",
            "nơi: 2\n",
            "hiện: 2\n",
            "ra: 2\n",
            "ở: 2\n",
            "các: 2\n",
            "trưng: 2\n",
            "riêng,: 2\n",
            "nên: 2\n",
            "dáng: 2\n",
            "nhưng: 2\n",
            "ẩm: 2\n",
            "tế: 2\n",
            "bình,: 2\n",
            "mà: 2\n",
            "khác: 2\n",
            "đã: 2\n",
            "nội.: 2\n",
            "giới: 2\n",
            "–: 2\n",
            "trí: 2\n",
            "kiểu: 2\n",
            "khí: 2\n",
            "hậu: 2\n",
            "nằm: 2\n",
            "sông: 2\n",
            "bắc: 2\n",
            "vĩnh: 2\n",
            "đông: 2\n",
            "trong: 2\n",
            "17: 2\n",
            "tích: 2\n",
            "lớn: 2\n",
            "thế: 2\n",
            "này: 2\n",
            "trung: 2\n",
            "kinh: 2\n",
            "nước.: 2\n",
            "bạn: 2\n",
            "cho: 2\n",
            "lạnh: 2\n",
            "thì: 2\n",
            "cũng: 2\n",
            "nóng: 2\n",
            "câu: 2\n",
            "ca: 2\n",
            "“dù: 1\n",
            "bốn: 1\n",
            "phương: 1\n",
            "trời,: 1\n",
            "lòng: 1\n",
            "nhớ: 1\n",
            "nội”.: 1\n",
            "quả: 1\n",
            "thật,: 1\n",
            "đẹp,: 1\n",
            "bình: 1\n",
            "dị,: 1\n",
            "đáng: 1\n",
            "mơ: 1\n",
            "màng,: 1\n",
            "giống: 1\n",
            "tình: 1\n",
            "để: 1\n",
            "gọi: 1\n",
            "tên,: 1\n",
            "ngắm: 1\n",
            "nhìn,: 1\n",
            "trân: 1\n",
            "nâng: 1\n",
            "niu.: 1\n",
            "quê: 1\n",
            "hương: 1\n",
            "2: 1\n",
            "xa: 1\n",
            "xứ.: 1\n",
            "tác: 1\n",
            "phẩm: 1\n",
            "việt: 1\n",
            "ta: 1\n",
            "hơn: 1\n",
            "thế,: 1\n",
            "thêm: 1\n",
            "đẹp: 1\n",
            "nghìn: 1\n",
            "năm: 1\n",
            "hiến.: 1\n",
            "chủ: 1\n",
            "yếu: 1\n",
            "viết: 1\n",
            "phố,: 1\n",
            "phường,: 1\n",
            "đời: 1\n",
            "sống: 1\n",
            "thường: 1\n",
            "nhật,: 1\n",
            "sâu: 1\n",
            "quà: 1\n",
            "riêng: 1\n",
            "đây: 1\n",
            "mới: 1\n",
            "có.: 1\n",
            "trang: 1\n",
            "giấy,: 1\n",
            "xưa: 1\n",
            "góc: 1\n",
            "cạnh: 1\n",
            "cùng: 1\n",
            "tạo: 1\n",
            "sức: 1\n",
            "quyến: 1\n",
            "rũ: 1\n",
            "kỳ: 1\n",
            "lạ,: 1\n",
            "níu: 1\n",
            "chân: 1\n",
            "bất: 1\n",
            "cứ: 1\n",
            "khách: 1\n",
            "nào: 1\n",
            "lại: 1\n",
            "qua.: 1\n",
            "đó: 1\n",
            "mái: 1\n",
            "nhà: 1\n",
            "cổ: 1\n",
            "kính: 1\n",
            "nhẹ: 1\n",
            "nhàng: 1\n",
            "khoác: 1\n",
            "lên: 1\n",
            "mình: 1\n",
            "lối: 1\n",
            "kiến: 1\n",
            "trúc: 1\n",
            "độc: 1\n",
            "đáo,: 1\n",
            "vẻ: 1\n",
            "quanh: 1\n",
            "co: 1\n",
            "rất: 1\n",
            "đỗi: 1\n",
            "mềm: 1\n",
            "mại: 1\n",
            "quen: 1\n",
            "thuộc,: 1\n",
            "hoá: 1\n",
            "thực: 1\n",
            "tinh: 1\n",
            "giữa: 1\n",
            "êm: 1\n",
            "ả,: 1\n",
            "thanh: 1\n",
            "rộn: 1\n",
            "rã: 1\n",
            "trầm: 1\n",
            "mặc.: 1\n",
            "nói: 1\n",
            "cách: 1\n",
            "đọc: 1\n",
            "nhìn: 1\n",
            "thấy: 1\n",
            "vóc: 1\n",
            "hồn: 1\n",
            "thiệu: 1\n",
            "điểm: 1\n",
            "tả: 1\n",
            "ngạn: 1\n",
            "đà: 1\n",
            "hai: 1\n",
            "bên: 1\n",
            "đồng: 1\n",
            "bằng: 1\n",
            "hồng.: 1\n",
            "phúc: 1\n",
            "thái: 1\n",
            "nguyên,: 1\n",
            "hòa: 1\n",
            "ninh: 1\n",
            "hưng: 1\n",
            "yên,: 1\n",
            "tây: 1\n",
            "phúc.: 1\n",
            "sau: 1\n",
            "khi: 1\n",
            "mở: 1\n",
            "rộng,: 1\n",
            "top: 1\n",
            "diện: 1\n",
            "3.324,92: 1\n",
            "km2.: 1\n",
            "địa: 1\n",
            "lý: 1\n",
            "thuận: 1\n",
            "lợi: 1\n",
            "này,: 1\n",
            "dàng: 1\n",
            "trở: 1\n",
            "trị,: 1\n",
            "hóa,: 1\n",
            "khoa: 1\n",
            "quan: 1\n",
            "tại,: 1\n",
            "gồm: 1\n",
            "12: 1\n",
            "quận,: 1\n",
            "1: 1\n",
            "thị: 1\n",
            "xã: 1\n",
            "huyện.: 1\n",
            "do: 1\n",
            "nhiệt: 1\n",
            "đới: 1\n",
            "gió: 1\n",
            "du: 1\n",
            "lịch: 1\n",
            "thưởng: 1\n",
            "đủ: 1\n",
            "4: 1\n",
            "năm.: 1\n",
            "mỗi: 1\n",
            "đều: 1\n",
            "cảm: 1\n",
            "nhận: 1\n",
            "nhau: 1\n",
            "cuộc: 1\n",
            "sống,: 1\n",
            "cảnh: 1\n",
            "đây.: 1\n",
            "lắm,: 1\n",
            "hè: 1\n",
            "lắm: 1\n",
            "vì: 1\n",
            "mất: 1\n",
            "cái: 1\n",
            "đẹp.: 1\n",
            "song: 1\n",
            "lẽ,: 1\n",
            "xuân,: 1\n",
            "thu: 1\n",
            "từ: 1\n",
            "thuở: 1\n",
            "thăng: 1\n",
            "long: 1\n",
            "nay: 1\n",
            "luôn: 1\n",
            "vùng: 1\n",
            "đất: 1\n",
            "nền: 1\n",
            "truyền: 1\n",
            "thuyết,: 1\n",
            "dao,: 1\n",
            "tục: 1\n",
            "ngữ,: 1\n",
            "lễ: 1\n",
            "hội: 1\n",
            "anh: 1\n",
            "hùng: 1\n",
            "ngợi,: 1\n",
            "di: 1\n",
            "phi: 1\n",
            "công: 1\n",
            "nhận.: 1\n"
          ]
        }
      ]
    },
    {
      "cell_type": "markdown",
      "source": [
        "bài 7. Đọc tập tin văn bản abc.txt sau đó chuyển nội dung đọc dược sang chữ in hoa và ghi vào tập tin xyz.txt"
      ],
      "metadata": {
        "id": "cItnO2lurwwk"
      }
    },
    {
      "cell_type": "code",
      "source": [
        "# Đọc nội dung từ tập tin abc.txt và chuyển thành chữ in hoa\n",
        "with open('muathu.txt', 'r') as file:\n",
        "    content = file.read().upper()  # Chuyển đổi thành chữ in hoa\n",
        "\n",
        "with open('hanoi.txt', 'a') as file:\n",
        "    file.write(content)\n",
        "\n",
        "print(\"Nội dung của tập tin hanoi.txt mới:\")\n",
        "with open('hanoi.txt', 'r') as file:\n",
        "    new_content = file.read()\n",
        "    print(new_content)\n"
      ],
      "metadata": {
        "id": "pU1TwoYUrv-p",
        "colab": {
          "base_uri": "https://localhost:8080/"
        },
        "outputId": "e8976ff0-29e0-4b44-e2c4-6f28ec9e5841"
      },
      "execution_count": null,
      "outputs": [
        {
          "output_type": "stream",
          "name": "stdout",
          "text": [
            "Nội dung của tập tin hanoi.txt mới:\n",
            "KHI MÙA THU VỀ, BẦU TRỜI TRONG XANH VÀ CAO VỜI VỢI. NẮNG KHÔNG CÒN GAY GẮT NHƯ NHỮNG NGÀY HÈ OI BỨC, MÀ TRỞ NÊN CHAN HÒA HƠN. LÀN GIÓ HEO MAY KÉO VỀ KHIẾN CHO THỜI TIẾT SE LẠNH. CÔ MÂY THÌ DẠO CHƠI QUANH NHỮNG NGỌN NÚI PHÍA XA. ÔNG MẶT TRỜI DẬY THẬT SỚM ĐỂ ĐÁNH THỨC MỌI NGƯỜI SAU MỘT ĐÊM DÀI. VÀI CHÚ CHIM NHỎ CẤT TIẾNG HÓT ĐÓN CHÀO NGÀY MỚI.\n",
            "\n",
            "PHÍA XA NGOÀI CÁNH ĐỒNG, NHỮNG BÔNG LÚA TRĨU NẶNG ĐANG ĐUNG ĐƯA THEO LÀN GIÓ MÁT TỪ XA THỔI VÀO. HƯƠNG LÚA CHÍN THƠM MANG HƠI THỞ CỦA LÀNG QUÊ KHIẾN AI NGỬI THẤY CŨNG ĐỀU SAY MÊ. ĐÂU ĐÓ TRÊN KHẮP PHỐ PHƯỜNG, HƯƠNG HOA SỮA NỒNG NÀN. KHÔNG KHÍ MÙA THU KHIẾN CHO CON NGƯỜI CẢM THẤY THẬT DỄ CHỊU, NHẸ NHÀNG. KHÔNG DỪNG LẠI Ở ĐÓ, MÙA THU CÒN CÓ NHỮNG KÍ ỨC ĐẸP ĐẼ CỦA TUỔI THƠ TÔI.\n",
            "\n",
            "\n",
            "ĐÓ LÀ ĐÊM TRĂNG TRUNG THU ĐƯỢC RƯỚC ĐÈN, PHÁ CỖ THẬT VUI VẺ. ĐẶC BIỆT NHẤT, MÙA THU CŨNG LÀ MÙA TỰU TRƯỜNG. SAU MỘT KÌ NGHỈ HÈ DÀI, HỌC TRÒ ĐƯỢC GẶP LẠI THẦY CÔ, BẠN BÈ. CẢM XÚC HÂN HOAN, HÁO HỨC BIẾT BAO. CÓ THỂ NÓI, MÙA THU LÀ MÙA TUYỆT VỜI NHẤT TRONG NĂM.KHI MÙA THU VỀ, BẦU TRỜI TRONG XANH VÀ CAO VỜI VỢI. NẮNG KHÔNG CÒN GAY GẮT NHƯ NHỮNG NGÀY HÈ OI BỨC, MÀ TRỞ NÊN CHAN HÒA HƠN. LÀN GIÓ HEO MAY KÉO VỀ KHIẾN CHO THỜI TIẾT SE LẠNH. CÔ MÂY THÌ DẠO CHƠI QUANH NHỮNG NGỌN NÚI PHÍA XA. ÔNG MẶT TRỜI DẬY THẬT SỚM ĐỂ ĐÁNH THỨC MỌI NGƯỜI SAU MỘT ĐÊM DÀI. VÀI CHÚ CHIM NHỎ CẤT TIẾNG HÓT ĐÓN CHÀO NGÀY MỚI.\n",
            "\n",
            "PHÍA XA NGOÀI CÁNH ĐỒNG, NHỮNG BÔNG LÚA TRĨU NẶNG ĐANG ĐUNG ĐƯA THEO LÀN GIÓ MÁT TỪ XA THỔI VÀO. HƯƠNG LÚA CHÍN THƠM MANG HƠI THỞ CỦA LÀNG QUÊ KHIẾN AI NGỬI THẤY CŨNG ĐỀU SAY MÊ. ĐÂU ĐÓ TRÊN KHẮP PHỐ PHƯỜNG, HƯƠNG HOA SỮA NỒNG NÀN. KHÔNG KHÍ MÙA THU KHIẾN CHO CON NGƯỜI CẢM THẤY THẬT DỄ CHỊU, NHẸ NHÀNG. KHÔNG DỪNG LẠI Ở ĐÓ, MÙA THU CÒN CÓ NHỮNG KÍ ỨC ĐẸP ĐẼ CỦA TUỔI THƠ TÔI.\n",
            "\n",
            "\n",
            "ĐÓ LÀ ĐÊM TRĂNG TRUNG THU ĐƯỢC RƯỚC ĐÈN, PHÁ CỖ THẬT VUI VẺ. ĐẶC BIỆT NHẤT, MÙA THU CŨNG LÀ MÙA TỰU TRƯỜNG. SAU MỘT KÌ NGHỈ HÈ DÀI, HỌC TRÒ ĐƯỢC GẶP LẠI THẦY CÔ, BẠN BÈ. CẢM XÚC HÂN HOAN, HÁO HỨC BIẾT BAO. CÓ THỂ NÓI, MÙA THU LÀ MÙA TUYỆT VỜI NHẤT TRONG NĂM.\n"
          ]
        }
      ]
    },
    {
      "cell_type": "markdown",
      "source": [
        "bài 8. Đọc tập tin văn bản abc.txt, lọc lấy tất cả các số trong dữ liệu đọc được và ghi chúng lần lượt vào tập tin number.txt, mỗi số ghi trên 1 dòng"
      ],
      "metadata": {
        "id": "X0K3Mih1r9KP"
      }
    },
    {
      "cell_type": "code",
      "source": [
        "import re\n",
        "\n",
        "with open(\"hanoi.txt\", \"r\") as file:\n",
        "    data = file.read()\n",
        "\n",
        "numbers = re.findall(r'\\d+', data)\n",
        "\n",
        "with open(\"number.txt\", \"w\") as file:\n",
        "    for number in numbers:\n",
        "        file.write(number + \"\\n\")\n",
        "        print(number)\n"
      ],
      "metadata": {
        "id": "AqTzctR2sAkb",
        "colab": {
          "base_uri": "https://localhost:8080/"
        },
        "outputId": "057fee94-001a-4433-8d80-3e6549ada420"
      },
      "execution_count": 11,
      "outputs": [
        {
          "output_type": "stream",
          "name": "stdout",
          "text": [
            "2\n",
            "17\n",
            "3\n",
            "324\n",
            "92\n",
            "2\n",
            "12\n",
            "1\n",
            "17\n",
            "4\n",
            "123\n",
            "34\n",
            "53\n"
          ]
        }
      ]
    },
    {
      "cell_type": "markdown",
      "source": [
        "bài 9.Nhập tên của hai tập tin văn bản, đọc và so sánh xem nội dung của hai tập tin có giống nhau hay không"
      ],
      "metadata": {
        "id": "cP2D_0b_sA7n"
      }
    },
    {
      "cell_type": "code",
      "source": [
        "file1_name = input(\"Nhập tên của tập tin 1: \")\n",
        "file2_name = input(\"Nhập tên của tập tin 2: \")\n",
        "\n",
        "try:\n",
        "    with open(file1_name, \"r\") as file1:\n",
        "        content1 = file1.read()\n",
        "    with open(file2_name, \"r\") as file2:\n",
        "        content2 = file2.read()\n",
        "\n",
        "    if content1 == content2:\n",
        "        print(\"Nội dung của hai tập tin giống nhau.\")\n",
        "    else:\n",
        "        print(\"Nội dung của hai tập tin không giống nhau.\")\n",
        "except FileNotFoundError:\n",
        "    print(\"Không tìm thấy tập tin. Vui lòng kiểm tra lại tên tập tin đã nhập.\")\n",
        "except Exception as e:\n",
        "    print(\"Đã xảy ra lỗi:\", str(e))\n"
      ],
      "metadata": {
        "colab": {
          "base_uri": "https://localhost:8080/"
        },
        "id": "m6O4gnIEQO1L",
        "outputId": "74586e0e-4d6b-4fd5-896e-15246535351c"
      },
      "execution_count": 12,
      "outputs": [
        {
          "output_type": "stream",
          "name": "stdout",
          "text": [
            "Nhập tên của tập tin 1: muathu.txt\n",
            "Nhập tên của tập tin 2: hanoi.txt\n",
            "Nội dung của hai tập tin không giống nhau.\n"
          ]
        }
      ]
    }
  ]
}